{
 "cells": [
  {
   "cell_type": "markdown",
   "metadata": {},
   "source": [
    "# Working with Docker Images\n",
    "\n",
    "Docker images are the foundation of containerization in Docker. They are read-only templates used to create containers. Understanding how to work with Docker images is crucial for effectively using Docker in your development and deployment workflows."
   ]
  },
  {
   "cell_type": "markdown",
   "metadata": {},
   "source": [
    "## What is a Docker Image?\n",
    "\n",
    "A Docker image is a lightweight, standalone, and executable package that includes everything needed to run a piece of software. This includes the code, runtime, system tools, libraries, and settings. Images are built in layers, with each layer representing an instruction in the image's Dockerfile."
   ]
  },
  {
   "cell_type": "markdown",
   "metadata": {},
   "source": [
    "## Key Concepts of Docker Images\n",
    "\n",
    "### 1. Image Layers\n",
    "\n",
    "Docker images are composed of multiple layers. Each layer represents a change or instruction in the Dockerfile. Layers are cached, which makes building and sharing images more efficient.\n",
    "\n",
    "Key points about image layers:\n",
    "- Layers are read-only\n",
    "- Each layer is a delta of the changes from the previous layer\n",
    "- Layers are shared between images, saving disk space and network bandwidth"
   ]
  },
  {
   "cell_type": "markdown",
   "metadata": {},
   "source": [
    "### 2. Base Images\n",
    "\n",
    "A base image is the starting point for building your Docker image. It's typically a minimal distribution of an operating system or a language-specific image.\n",
    "\n",
    "Common base images:\n",
    "- `alpine`: A minimal Linux distribution, often used for small, secure images\n",
    "- `ubuntu`: A full-featured Linux distribution\n",
    "- `node`: Includes Node.js and npm\n",
    "- `python`: Includes Python interpreter and pip"
   ]
  },
  {
   "cell_type": "markdown",
   "metadata": {},
   "source": [
    "### 3. Dockerfile\n",
    "\n",
    "A Dockerfile is a text file that contains instructions for building a Docker image. Each instruction in a Dockerfile creates a new layer in the image.\n",
    "\n",
    "Common Dockerfile instructions:\n",
    "- `FROM`: Specifies the base image\n",
    "- `RUN`: Executes commands in a new layer\n",
    "- `COPY` and `ADD`: Adds files from your Docker client's current directory\n",
    "- `CMD`: Provides defaults for an executing container\n",
    "- `EXPOSE`: Informs Docker that the container listens on specified network ports"
   ]
  },
  {
   "cell_type": "markdown",
   "metadata": {},
   "source": [
    "## Working with Docker Images\n",
    "\n",
    "### 1. Building Images\n",
    "\n",
    "To build an image from a Dockerfile, use the `docker build` command:"
   ]
  },
  {
   "cell_type": "code",
   "execution_count": null,
   "metadata": {
    "vscode": {
     "languageId": "shellscript"
    }
   },
   "outputs": [],
   "source": [
    "docker build -t myimage:tag ."
   ]
  },
  {
   "cell_type": "markdown",
   "metadata": {},
   "source": [
    "This command builds an image from the Dockerfile in the current directory (`.`) and tags it as `myimage:tag`."
   ]
  },
  {
   "cell_type": "markdown",
   "metadata": {},
   "source": [
    "### 2. Listing Images\n",
    "\n",
    "To see the images available on your system, use:"
   ]
  },
  {
   "cell_type": "code",
   "execution_count": null,
   "metadata": {
    "vscode": {
     "languageId": "shellscript"
    }
   },
   "outputs": [],
   "source": [
    "docker images\n",
    "\n",
    "# or\n",
    "\n",
    "docker image ls"
   ]
  },
  {
   "cell_type": "markdown",
   "metadata": {},
   "source": [
    "### 3. Pulling Images\n",
    "\n",
    "To download an image from a registry (like Docker Hub), use:\n",
    "\n",
    "```bash\n",
    "docker pull image:tag\n",
    "```\n",
    "\n",
    "For example:"
   ]
  },
  {
   "cell_type": "code",
   "execution_count": null,
   "metadata": {
    "vscode": {
     "languageId": "shellscript"
    }
   },
   "outputs": [],
   "source": [
    "docker pull nginx:latest"
   ]
  },
  {
   "cell_type": "markdown",
   "metadata": {},
   "source": [
    "### 4. Pushing Images\n",
    "\n",
    "To share your image by pushing it to a registry:\n",
    "\n",
    "```bash\n",
    "docker push username/image:tag\n",
    "```\n",
    "\n",
    "Note: You need to be logged in to the registry (`docker login`) before pushing."
   ]
  },
  {
   "cell_type": "markdown",
   "metadata": {},
   "source": [
    "### 5. Removing Images\n",
    "\n",
    "To remove an image from your local system:\n",
    "\n",
    "```bash\n",
    "docker rmi image:tag\n",
    "```\n",
    "\n",
    "or\n",
    "\n",
    "```bash\n",
    "docker image rm image:tag\n",
    "```"
   ]
  },
  {
   "cell_type": "markdown",
   "metadata": {},
   "source": [
    "### 6. Inspecting Images\n",
    "\n",
    "To view detailed information about an image:\n",
    "\n",
    "```bash\n",
    "docker inspect image:tag\n",
    "```\n",
    "\n",
    "This provides a JSON output with various details about the image."
   ]
  },
  {
   "cell_type": "markdown",
   "metadata": {},
   "source": [
    "## Best Practices for Working with Docker Images\n",
    "\n",
    "### 1. Use Specific Tags\n",
    "\n",
    "Always use specific tags for your images rather than relying on the `latest` tag. This ensures consistency and reproducibility."
   ]
  },
  {
   "cell_type": "markdown",
   "metadata": {},
   "source": [
    "### 2. Keep Images Small\n",
    "\n",
    "- Use minimal base images when possible (like Alpine Linux)\n",
    "- Combine RUN commands to reduce layers\n",
    "- Remove unnecessary files in the same layer they're created"
   ]
  },
  {
   "cell_type": "markdown",
   "metadata": {},
   "source": [
    "### 3. Leverage Build Cache\n",
    "\n",
    "Order your Dockerfile instructions from least to most frequently changing. This optimizes the build cache usage."
   ]
  },
  {
   "cell_type": "markdown",
   "metadata": {},
   "source": [
    "### 4. Use .dockerignore\n",
    "\n",
    "Create a `.dockerignore` file to exclude files and directories that aren't necessary for building your image."
   ]
  },
  {
   "cell_type": "markdown",
   "metadata": {},
   "source": [
    "### 5. Multi-stage Builds\n",
    "\n",
    "Use multi-stage builds to create smaller production images. This allows you to use one stage to build your application and another to create a minimal runtime image.\n",
    "\n",
    "Example of a multi-stage Dockerfile:\n",
    "\n",
    "```dockerfile\n",
    "# Build stage\n",
    "FROM golang:1.16 AS builder\n",
    "WORKDIR /app\n",
    "COPY . .\n",
    "RUN go build -o main .\n",
    "\n",
    "# Runtime stage\n",
    "FROM alpine:3.14\n",
    "COPY --from=builder /app/main /main\n",
    "CMD [\"/main\"]\n",
    "```"
   ]
  },
  {
   "cell_type": "markdown",
   "metadata": {},
   "source": [
    "### 6. Security Scanning\n",
    "\n",
    "Regularly scan your images for vulnerabilities. Many registries and CI/CD tools offer built-in scanning capabilities."
   ]
  },
  {
   "cell_type": "markdown",
   "metadata": {},
   "source": [
    "## Image Management Strategies\n",
    "\n",
    "### 1. Versioning\n",
    "\n",
    "Use semantic versioning for your images. This helps in managing different versions of your application.\n",
    "\n",
    "### 2. Tagging Strategies\n",
    "\n",
    "- Use descriptive tags (e.g., `v1.2.3-alpine`)\n",
    "- Consider using git commit hashes for development images\n",
    "\n",
    "### 3. Registry Management\n",
    "\n",
    "- Use private registries for sensitive or proprietary images\n",
    "- Implement access controls and security policies for your registries\n",
    "\n",
    "### 4. Cleanup Policies\n",
    "\n",
    "Implement policies to clean up old or unused images to save storage space."
   ]
  },
  {
   "cell_type": "markdown",
   "metadata": {},
   "source": [
    "## Advanced Topics\n",
    "\n",
    "### 1. Custom Base Images\n",
    "\n",
    "Create your own base images for consistency across your organization's containers.\n",
    "\n",
    "### 2. Squashing Images\n",
    "\n",
    "Docker provides an experimental `--squash` flag for `docker build` that squashes all layers into one, potentially reducing the image size.\n",
    "\n",
    "### 3. Image Signing\n",
    "\n",
    "Use Docker Content Trust (DCT) to sign and verify images, ensuring the integrity and publisher of your images.\n",
    "\n",
    "By mastering these concepts and practices, you'll be well-equipped to effectively work with Docker images, optimizing your containerization workflow and improving your application deployment process."
   ]
  }
 ],
 "metadata": {
  "language_info": {
   "name": "python"
  }
 },
 "nbformat": 4,
 "nbformat_minor": 2
}
