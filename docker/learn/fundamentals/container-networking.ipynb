{
 "cells": [
  {
   "cell_type": "markdown",
   "metadata": {},
   "source": [
    "# Docker Networking\n",
    "\n",
    "Docker networking is a crucial aspect of container management that enables communication between containers and the outside world. Understanding Docker networking is essential for building scalable and secure containerized applications."
   ]
  },
  {
   "cell_type": "markdown",
   "metadata": {},
   "source": [
    "## Core Concepts of Docker Networking"
   ]
  },
  {
   "cell_type": "markdown",
   "metadata": {},
   "source": [
    "### Network Drivers\n",
    "\n",
    "Docker uses network drivers to provide different networking capabilities. Each driver has unique characteristics and use cases.\n",
    "\n",
    "1. Bridge: The default network driver. It's used when multiple containers need to communicate on the same Docker host.\n",
    "\n",
    "2. Host: Removes network isolation between the container and the Docker host, using the host's networking directly.\n",
    "\n",
    "3. Overlay: Enables communication between containers across multiple Docker hosts, often used in Docker Swarm.\n",
    "\n",
    "4. Macvlan: Allows you to assign a MAC address to a container, making it appear as a physical device on your network.\n",
    "\n",
    "5. None: Disables all networking for a container."
   ]
  },
  {
   "cell_type": "markdown",
   "metadata": {},
   "source": [
    "### Network Scopes\n",
    "\n",
    "Docker networks operate in two scopes:\n",
    "\n",
    "1. Local: The network is limited to a single host.\n",
    "2. Swarm: The network can span multiple hosts in a Docker Swarm cluster."
   ]
  },
  {
   "cell_type": "markdown",
   "metadata": {},
   "source": [
    "## Working with Docker Networks\n",
    "\n",
    "### Listing Networks\n",
    "\n",
    "To list all networks:\n",
    "\n",
    "```bash\n",
    "docker network ls\n",
    "```"
   ]
  },
  {
   "cell_type": "markdown",
   "metadata": {},
   "source": [
    "### Creating a Network\n",
    "\n",
    "To create a new network:\n",
    "\n",
    "```bash\n",
    "docker network create [OPTIONS] NETWORK\n",
    "```\n",
    "\n",
    "Example:\n",
    "```bash\n",
    "docker network create --driver bridge my_network\n",
    "```"
   ]
  },
  {
   "cell_type": "markdown",
   "metadata": {},
   "source": [
    "### Connecting a Container to a Network\n",
    "\n",
    "When running a container:\n",
    "\n",
    "```bash\n",
    "docker run --network=my_network my_image\n",
    "```\n",
    "\n",
    "For an existing container:\n",
    "\n",
    "```bash\n",
    "docker network connect my_network my_container\n",
    "```"
   ]
  },
  {
   "cell_type": "markdown",
   "metadata": {},
   "source": [
    "### Disconnecting a Container from a Network\n",
    "\n",
    "```bash\n",
    "docker network disconnect my_network my_container\n",
    "```\n",
    "\n",
    "### Removing a Network\n",
    "\n",
    "```bash\n",
    "docker network rm my_network\n",
    "```"
   ]
  },
  {
   "cell_type": "markdown",
   "metadata": {},
   "source": [
    "## Docker Bridge Networking\n",
    "\n",
    "Bridge networking is the default network mode in Docker.\n",
    "\n",
    "### Default Bridge Network\n",
    "\n",
    "- All containers are connected to the `bridge` network by default.\n",
    "- Containers on the default bridge can communicate with each other via IP addresses.\n",
    "- To enable communication by container name, use custom bridge networks."
   ]
  },
  {
   "cell_type": "markdown",
   "metadata": {},
   "source": [
    "### Custom Bridge Networks\n",
    "\n",
    "Custom bridge networks provide better isolation and allow containers to communicate using their names as hostnames.\n",
    "\n",
    "Creating a custom bridge network:\n",
    "\n",
    "```bash\n",
    "docker network create my_custom_bridge\n",
    "```\n",
    "\n",
    "Running a container on the custom network:\n",
    "\n",
    "```bash\n",
    "docker run --network=my_custom_bridge --name=container1 my_image\n",
    "```\n",
    "\n",
    "Now, `container1` can be reached by its name from other containers on the same network."
   ]
  },
  {
   "cell_type": "markdown",
   "metadata": {},
   "source": [
    "## Exposing Ports\n",
    "\n",
    "To make a container's service accessible from outside, you need to expose its ports.\n",
    "\n",
    "### Publishing Ports\n",
    "\n",
    "When running a container:\n",
    "\n",
    "```bash\n",
    "docker run -p [HOST_PORT]:[CONTAINER_PORT] my_image\n",
    "```\n",
    "\n",
    "Example:\n",
    "```bash\n",
    "docker run -p 8080:80 nginx\n",
    "```\n",
    "\n",
    "This maps port 80 in the container to port 8080 on the host."
   ]
  },
  {
   "cell_type": "markdown",
   "metadata": {},
   "source": [
    "### Exposing All Ports\n",
    "\n",
    "To expose all ports defined in the Dockerfile:\n",
    "\n",
    "```bash\n",
    "docker run -P my_image\n",
    "```"
   ]
  },
  {
   "cell_type": "markdown",
   "metadata": {},
   "source": [
    "## Docker Host Networking\n",
    "\n",
    "Host networking removes network isolation between the container and the Docker host.\n",
    "\n",
    "To use host networking:\n",
    "\n",
    "```bash\n",
    "docker run --network host my_image\n",
    "```\n",
    "\n",
    "Note: Host networking can't be used on Docker Desktop for Mac or Windows."
   ]
  },
  {
   "cell_type": "markdown",
   "metadata": {},
   "source": [
    "## Docker Overlay Networking\n",
    "\n",
    "Overlay networks are used in Docker Swarm to enable container communication across multiple Docker hosts.\n",
    "\n",
    "### Creating an Overlay Network\n",
    "\n",
    "```bash\n",
    "docker network create --driver overlay my_overlay_network\n",
    "```\n",
    "\n",
    "### Attaching a Service to an Overlay Network\n",
    "\n",
    "```bash\n",
    "docker service create --network my_overlay_network my_image\n",
    "```"
   ]
  },
  {
   "cell_type": "markdown",
   "metadata": {},
   "source": [
    "## Docker Macvlan Networking\n",
    "\n",
    "Macvlan networks allow you to assign a MAC address to a container, making it appear as a physical device on your network.\n",
    "\n",
    "Creating a Macvlan network:\n",
    "\n",
    "```bash\n",
    "docker network create -d macvlan \\\n",
    "  --subnet=172.16.86.0/24 \\\n",
    "  --gateway=172.16.86.1 \\\n",
    "  -o parent=eth0 my_macvlan_network\n",
    "```"
   ]
  },
  {
   "cell_type": "markdown",
   "metadata": {},
   "source": [
    "## Network Troubleshooting\n",
    "\n",
    "### Inspecting Network Details\n",
    "\n",
    "```bash\n",
    "docker network inspect my_network\n",
    "```"
   ]
  },
  {
   "cell_type": "markdown",
   "metadata": {},
   "source": [
    "### Viewing Container's Network Settings\n",
    "\n",
    "```bash\n",
    "docker inspect --format='{{json .NetworkSettings.Networks}}' my_container\n",
    "```"
   ]
  },
  {
   "cell_type": "markdown",
   "metadata": {},
   "source": [
    "### Using Network Debugging Tools\n",
    "\n",
    "Many network debugging tools can be used within containers:\n",
    "\n",
    "```bash\n",
    "docker run --rm --net=host nicolaka/netshoot\n",
    "```\n",
    "\n",
    "This container includes tools like `ping`, `traceroute`, `nslookup`, etc."
   ]
  },
  {
   "cell_type": "markdown",
   "metadata": {},
   "source": [
    "## Docker DNS\n",
    "\n",
    "Docker provides a built-in DNS server for container name resolution.\n",
    "\n",
    "- Containers on the default bridge network can only resolve each other by IP address.\n",
    "- Containers on custom networks can resolve each other by name or alias.\n",
    "\n",
    "Setting a DNS alias:\n",
    "\n",
    "```bash\n",
    "docker run --network my_network --network-alias my_alias my_image\n",
    "```"
   ]
  },
  {
   "cell_type": "markdown",
   "metadata": {},
   "source": [
    "## Network Security Best Practices\n",
    "\n",
    "1. Use custom bridge networks instead of the default bridge for better isolation.\n",
    "\n",
    "2. Limit exposed ports to only what's necessary.\n",
    "\n",
    "3. Use Docker Secrets for sensitive data instead of environment variables.\n",
    "\n",
    "4. Implement network segmentation using multiple custom networks.\n",
    "\n",
    "5. Regularly update Docker and base images to patch security vulnerabilities.\n",
    "\n",
    "6. Use Docker Content Trust to sign and verify images.\n",
    "\n",
    "7. Implement proper firewall rules on the Docker host."
   ]
  },
  {
   "cell_type": "markdown",
   "metadata": {},
   "source": [
    "## Advanced Networking Concepts\n",
    "\n",
    "### Container Network Model (CNM)\n",
    "\n",
    "CNM is Docker's approach to container networking. It consists of three main components:\n",
    "\n",
    "1. Sandbox: Contains the network stack configuration of a container.\n",
    "2. Endpoint: Connects a sandbox to a network.\n",
    "3. Network: A group of endpoints that can communicate with each other directly."
   ]
  },
  {
   "cell_type": "markdown",
   "metadata": {},
   "source": [
    "### Network Plugins\n",
    "\n",
    "Docker supports network plugins that allow you to use different networking technologies:\n",
    "\n",
    "- Weave\n",
    "- Calico\n",
    "- Flannel\n",
    "\n",
    "These plugins often provide additional features like encryption, fine-grained access control, and improved performance."
   ]
  },
  {
   "cell_type": "markdown",
   "metadata": {},
   "source": [
    "### Service Discovery\n",
    "\n",
    "In a Docker Swarm, services can be discovered using the built-in DNS server. Each service is assigned a DNS entry in the format `<service-name>.<network-name>`.\n",
    "\n",
    "By mastering these Docker networking concepts and practices, you'll be well-equipped to design, implement, and troubleshoot network configurations for your containerized applications."
   ]
  }
 ],
 "metadata": {
  "language_info": {
   "name": "python"
  }
 },
 "nbformat": 4,
 "nbformat_minor": 2
}
