{
 "cells": [
  {
   "cell_type": "markdown",
   "metadata": {},
   "source": [
    "# Docker Best Practices\n",
    "\n",
    "Docker has revolutionized the way we develop, deploy, and run applications. However, to fully leverage its power and ensure efficient, secure, and maintainable containerized environments, it's crucial to follow best practices. This tutorial covers core concepts and best practices for working with Docker."
   ]
  },
  {
   "cell_type": "markdown",
   "metadata": {},
   "source": [
    "## Image Creation\n",
    "\n",
    "### Use Official Base Images\n",
    "\n",
    "Always start with official base images from Docker Hub. These images are maintained, security-patched, and optimized for Docker.\n",
    "\n",
    "```dockerfile\n",
    "FROM node:14-alpine\n",
    "```"
   ]
  },
  {
   "cell_type": "markdown",
   "metadata": {},
   "source": [
    "### Minimize Layers\n",
    "\n",
    "Each instruction in a Dockerfile creates a new layer. Combine commands to reduce the number of layers and optimize build time and image size.\n",
    "\n",
    "```dockerfile\n",
    "RUN apt-get update && apt-get install -y \\\n",
    "    package1 \\\n",
    "    package2 \\\n",
    "    && rm -rf /var/lib/apt/lists/*\n",
    "```"
   ]
  },
  {
   "cell_type": "markdown",
   "metadata": {},
   "source": [
    "### Use .dockerignore\n",
    "\n",
    "Create a .dockerignore file to exclude unnecessary files from the build context, reducing build time and image size.\n",
    "\n",
    "```\n",
    "node_modules\n",
    "npm-debug.log\n",
    "Dockerfile\n",
    ".git\n",
    ".gitignore\n",
    "```"
   ]
  },
  {
   "cell_type": "markdown",
   "metadata": {},
   "source": [
    "### Multi-stage Builds\n",
    "\n",
    "Use multi-stage builds to create smaller production images. This technique allows you to use one stage to build your application and another to create a minimal runtime image.\n",
    "\n",
    "```dockerfile\n",
    "# Build stage\n",
    "FROM node:14 AS build\n",
    "WORKDIR /app\n",
    "COPY package*.json ./\n",
    "RUN npm install\n",
    "COPY . .\n",
    "RUN npm run build\n",
    "\n",
    "# Production stage\n",
    "FROM node:14-alpine\n",
    "WORKDIR /app\n",
    "COPY --from=build /app/dist ./dist\n",
    "CMD [\"node\", \"dist/app.js\"]\n",
    "```"
   ]
  },
  {
   "cell_type": "markdown",
   "metadata": {},
   "source": [
    "## Container Runtime\n",
    "\n",
    "### Use Specific Tags\n",
    "\n",
    "Always use specific tags for your base images rather than `latest`. This ensures consistency and reproducibility.\n",
    "\n",
    "```dockerfile\n",
    "FROM node:14.17.0-alpine3.13\n",
    "```"
   ]
  },
  {
   "cell_type": "markdown",
   "metadata": {},
   "source": [
    "### Set a Non-root User\n",
    "\n",
    "Run containers as a non-root user for better security.\n",
    "\n",
    "```dockerfile\n",
    "RUN addgroup -S appgroup && adduser -S appuser -G appgroup\n",
    "USER appuser\n",
    "```"
   ]
  },
  {
   "cell_type": "markdown",
   "metadata": {},
   "source": [
    "### Use Environment Variables\n",
    "\n",
    "Use environment variables for configuration that might change between environments.\n",
    "\n",
    "```dockerfile\n",
    "ENV NODE_ENV=production\n",
    "CMD [\"node\", \"app.js\"]\n",
    "```\n"
   ]
  },
  {
   "cell_type": "markdown",
   "metadata": {},
   "source": [
    "### Optimize for Caching\n",
    "\n",
    "Place commands that are less likely to change at the beginning of the Dockerfile. This helps in utilizing Docker's layer caching mechanism effectively."
   ]
  },
  {
   "cell_type": "markdown",
   "metadata": {},
   "source": [
    "### Implement Healthchecks\n",
    "\n",
    "Use HEALTHCHECK instruction in your Dockerfile to enable Docker to test a container and ensure it's still working.\n",
    "\n",
    "```dockerfile\n",
    "HEALTHCHECK --interval=30s --timeout=30s --start-period=5s --retries=3 \\\n",
    "  CMD curl -f http://localhost/ || exit 1\n",
    "```"
   ]
  },
  {
   "cell_type": "markdown",
   "metadata": {},
   "source": [
    "## Image Management\n",
    "\n",
    "### Tag Images Properly\n",
    "\n",
    "Use meaningful and consistent tags for your images. Consider using semantic versioning.\n",
    "\n",
    "```bash\n",
    "docker build -t myapp:1.0.0 .\n",
    "```"
   ]
  },
  {
   "cell_type": "markdown",
   "metadata": {},
   "source": [
    "### Use Multi-arch Images\n",
    "\n",
    "Build multi-architecture images to ensure your containers can run on different platforms.\n",
    "\n",
    "```bash\n",
    "docker buildx build --platform linux/amd64,linux/arm64 -t myapp:latest .\n",
    "```"
   ]
  },
  {
   "cell_type": "markdown",
   "metadata": {},
   "source": [
    "### Scan Images for Vulnerabilities\n",
    "\n",
    "Regularly scan your images for known vulnerabilities using tools like Docker Scan or Trivy.\n",
    "\n",
    "```bash\n",
    "docker scan myapp:latest\n",
    "```"
   ]
  },
  {
   "cell_type": "markdown",
   "metadata": {},
   "source": [
    "## Container Deployment"
   ]
  },
  {
   "cell_type": "markdown",
   "metadata": {},
   "source": [
    "### Use Docker Compose for Multi-container Applications\n",
    "\n",
    "Docker Compose simplifies the process of defining and running multi-container Docker applications.\n",
    "\n",
    "```yaml\n",
    "version: '3'\n",
    "services:\n",
    "  web:\n",
    "    build: .\n",
    "    ports:\n",
    "      - \"5000:5000\"\n",
    "  redis:\n",
    "    image: \"redis:alpine\"\n",
    "```"
   ]
  },
  {
   "cell_type": "markdown",
   "metadata": {},
   "source": [
    "### Implement Logging\n",
    "\n",
    "Configure logging drivers to manage and analyze container logs effectively.\n",
    "\n",
    "```bash\n",
    "docker run --log-driver=json-file --log-opt max-size=10m --log-opt max-file=3 myapp\n",
    "```"
   ]
  },
  {
   "cell_type": "markdown",
   "metadata": {},
   "source": [
    "### Use Volumes for Persistent Data\n",
    "\n",
    "Use Docker volumes for data that needs to persist beyond the life of a container.\n",
    "\n",
    "```bash\n",
    "docker run -v mydata:/app/data myapp\n",
    "```\n"
   ]
  },
  {
   "cell_type": "markdown",
   "metadata": {},
   "source": [
    "### Set Resource Limits\n",
    "\n",
    "Set memory and CPU limits for your containers to prevent resource exhaustion.\n",
    "\n",
    "```bash\n",
    "docker run --memory=512m --cpus=0.5 myapp\n",
    "```"
   ]
  },
  {
   "cell_type": "markdown",
   "metadata": {},
   "source": [
    "## Networking"
   ]
  },
  {
   "cell_type": "markdown",
   "metadata": {},
   "source": [
    "### Use User-defined Bridge Networks\n",
    "\n",
    "Create user-defined bridge networks for better isolation and to enable container-to-container communication using DNS names.\n",
    "\n",
    "```bash\n",
    "docker network create mynetwork\n",
    "docker run --network=mynetwork --name=container1 myapp\n",
    "```"
   ]
  },
  {
   "cell_type": "markdown",
   "metadata": {},
   "source": [
    "### Minimize Exposed Ports\n",
    "\n",
    "Only expose the ports that are absolutely necessary for your application to function.\n",
    "\n",
    "```dockerfile\n",
    "EXPOSE 80\n",
    "```"
   ]
  },
  {
   "cell_type": "markdown",
   "metadata": {},
   "source": [
    "## Security"
   ]
  },
  {
   "cell_type": "markdown",
   "metadata": {},
   "source": [
    "### Keep Base Images Updated\n",
    "\n",
    "Regularly update your base images to get the latest security patches."
   ]
  },
  {
   "cell_type": "markdown",
   "metadata": {},
   "source": [
    "### Use Secret Management\n",
    "\n",
    "For sensitive data, use Docker Secrets in Swarm mode or a third-party secrets management tool.\n",
    "\n",
    "```bash\n",
    "docker secret create my_secret my_secret.txt\n",
    "docker service create --name myapp --secret my_secret myapp\n",
    "```"
   ]
  },
  {
   "cell_type": "markdown",
   "metadata": {},
   "source": [
    "### Enable Content Trust\n",
    "\n",
    "Use Docker Content Trust to sign and verify images.\n",
    "\n",
    "```bash\n",
    "export DOCKER_CONTENT_TRUST=1\n",
    "docker push myregistry.azurecr.io/myapp:v1\n",
    "```"
   ]
  },
  {
   "cell_type": "markdown",
   "metadata": {},
   "source": [
    "## Development Workflow"
   ]
  },
  {
   "cell_type": "markdown",
   "metadata": {},
   "source": [
    "### Use Docker for Local Development\n",
    "\n",
    "Use Docker to create a consistent development environment across your team."
   ]
  },
  {
   "cell_type": "markdown",
   "metadata": {},
   "source": [
    "### Implement CI/CD with Docker\n",
    "\n",
    "Integrate Docker into your CI/CD pipeline for consistent builds and deployments."
   ]
  },
  {
   "cell_type": "markdown",
   "metadata": {},
   "source": [
    "## Monitoring and Maintenance"
   ]
  },
  {
   "cell_type": "markdown",
   "metadata": {},
   "source": [
    "### Implement Monitoring\n",
    "\n",
    "Use tools like Prometheus and Grafana to monitor your Docker environments."
   ]
  },
  {
   "cell_type": "markdown",
   "metadata": {},
   "source": [
    "### Regular Cleanup\n",
    "\n",
    "Regularly remove unused containers, images, and volumes to free up space.\n",
    "\n",
    "```bash\n",
    "docker system prune -a\n",
    "```"
   ]
  },
  {
   "cell_type": "markdown",
   "metadata": {},
   "source": [
    "## Documentation"
   ]
  },
  {
   "cell_type": "markdown",
   "metadata": {},
   "source": [
    "### Document Your Dockerfiles\n",
    "\n",
    "Add comments to your Dockerfiles to explain complex instructions or rationale behind certain decisions."
   ]
  },
  {
   "cell_type": "markdown",
   "metadata": {},
   "source": [
    "### Maintain a README\n",
    "\n",
    "Keep a README file with instructions on how to build, run, and maintain your Dockerized application.\n",
    "\n",
    "By adhering to these best practices, you can create more efficient, secure, and maintainable Docker environments. Remember, these practices may evolve as Docker and the containerization ecosystem continue to develop, so always stay informed about the latest recommendations and updates in the Docker community."
   ]
  }
 ],
 "metadata": {
  "language_info": {
   "name": "python"
  }
 },
 "nbformat": 4,
 "nbformat_minor": 2
}
