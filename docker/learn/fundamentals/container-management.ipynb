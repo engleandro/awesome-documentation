{
 "cells": [
  {
   "cell_type": "markdown",
   "metadata": {},
   "source": [
    "# Container Management\n",
    "\n",
    "Container management is a crucial aspect of working with Docker. It involves creating, running, monitoring, and maintaining Docker containers effectively. This tutorial will cover the core concepts and practices of container management."
   ]
  },
  {
   "cell_type": "markdown",
   "metadata": {},
   "source": [
    "## Understanding Docker Containers\n",
    "\n",
    "A Docker container is a runnable instance of a Docker image. Containers encapsulate an application and its dependencies, providing a consistent environment across different stages of development and deployment.\n",
    "\n",
    "Key characteristics of containers:\n",
    "- Lightweight and portable\n",
    "- Isolated from other containers and the host system\n",
    "- Can be started, stopped, moved, and deleted"
   ]
  },
  {
   "cell_type": "markdown",
   "metadata": {},
   "source": [
    "## Container Lifecycle\n",
    "\n",
    "Understanding the container lifecycle is essential for effective container management:\n",
    "\n",
    "1. Created: Container is created but not started\n",
    "2. Running: Container is running with all its processes active\n",
    "3. Paused: Container processes are paused\n",
    "4. Stopped: Container is stopped, but not removed\n",
    "5. Deleted: Container is removed and no longer exists"
   ]
  },
  {
   "cell_type": "markdown",
   "metadata": {},
   "source": [
    "## Basic Container Operations\n",
    "\n",
    "### 1. Creating and Running Containers\n",
    "\n",
    "To create and start a container in one command:\n",
    "\n",
    "```bash\n",
    "docker run [OPTIONS] IMAGE [COMMAND] [ARG...]\n",
    "```\n",
    "\n",
    "Common options:\n",
    "- `-d`: Run container in detached mode\n",
    "- `-p`: Publish container's port to the host\n",
    "- `-v`: Bind mount a volume\n",
    "- `--name`: Assign a name to the container\n",
    "\n",
    "Example:\n",
    "```bash\n",
    "docker run -d -p 8080:80 --name mywebserver nginx\n",
    "```"
   ]
  },
  {
   "cell_type": "markdown",
   "metadata": {},
   "source": [
    "### 2. Listing Containers\n",
    "\n",
    "To list running containers:\n",
    "\n",
    "```bash\n",
    "docker ps\n",
    "```\n",
    "\n",
    "To list all containers (including stopped ones):\n",
    "\n",
    "```bash\n",
    "docker ps -a\n",
    "```"
   ]
  },
  {
   "cell_type": "markdown",
   "metadata": {},
   "source": [
    "### 3. Stopping Containers\n",
    "\n",
    "To stop a running container:\n",
    "\n",
    "```bash\n",
    "docker stop [CONTAINER_ID or NAME]\n",
    "```"
   ]
  },
  {
   "cell_type": "markdown",
   "metadata": {},
   "source": [
    "### 4. Starting Stopped Containers\n",
    "\n",
    "To start a stopped container:\n",
    "\n",
    "```bash\n",
    "docker start [CONTAINER_ID or NAME]\n",
    "```"
   ]
  },
  {
   "cell_type": "markdown",
   "metadata": {},
   "source": [
    "### 5. Removing Containers\n",
    "\n",
    "To remove a stopped container:\n",
    "\n",
    "```bash\n",
    "docker rm [CONTAINER_ID or NAME]\n",
    "```\n",
    "\n",
    "To force remove a running container:\n",
    "\n",
    "```bash\n",
    "docker rm -f [CONTAINER_ID or NAME]\n",
    "```"
   ]
  },
  {
   "cell_type": "markdown",
   "metadata": {},
   "source": [
    "## Advanced Container Management\n",
    "\n",
    "### 1. Inspecting Containers\n",
    "\n",
    "To view detailed information about a container:\n",
    "\n",
    "```bash\n",
    "docker inspect [CONTAINER_ID or NAME]\n",
    "```\n",
    "\n",
    "This provides a JSON output with various details about the container."
   ]
  },
  {
   "cell_type": "markdown",
   "metadata": {},
   "source": [
    "### 2. Executing Commands in Running Containers\n",
    "\n",
    "To run a command in a running container:\n",
    "\n",
    "```bash\n",
    "docker exec [OPTIONS] CONTAINER COMMAND [ARG...]\n",
    "```\n",
    "\n",
    "Example (to open a bash shell):\n",
    "```bash\n",
    "docker exec -it mycontainer /bin/bash\n",
    "```"
   ]
  },
  {
   "cell_type": "markdown",
   "metadata": {},
   "source": [
    "### 3. Copying Files between Container and Host\n",
    "\n",
    "To copy files from a container to the host:\n",
    "\n",
    "```bash\n",
    "docker cp [CONTAINER_ID]:/path/to/file /host/path\n",
    "```\n",
    "\n",
    "To copy files from the host to a container:\n",
    "\n",
    "```bash\n",
    "docker cp /host/path [CONTAINER_ID]:/path/in/container\n",
    "```"
   ]
  },
  {
   "cell_type": "markdown",
   "metadata": {},
   "source": [
    "### 4. Viewing Container Logs\n",
    "\n",
    "To view the logs of a container:\n",
    "\n",
    "```bash\n",
    "docker logs [OPTIONS] CONTAINER\n",
    "```\n",
    "\n",
    "Common options:\n",
    "- `-f`: Follow log output\n",
    "- `--tail`: Number of lines to show from the end of the logs"
   ]
  },
  {
   "cell_type": "markdown",
   "metadata": {},
   "source": [
    "### 5. Monitoring Container Resource Usage\n",
    "\n",
    "To see a live stream of container resource usage statistics:\n",
    "\n",
    "```bash\n",
    "docker stats [CONTAINER_ID or NAME]\n",
    "```"
   ]
  },
  {
   "cell_type": "markdown",
   "metadata": {},
   "source": [
    "## Container Networking\n",
    "\n",
    "### 1. Network Types\n",
    "\n",
    "Docker provides several network drivers:\n",
    "- Bridge: Default network driver\n",
    "- Host: For standalone containers\n",
    "- Overlay: For swarm services\n",
    "- Macvlan: Assigns a MAC address to a container"
   ]
  },
  {
   "cell_type": "markdown",
   "metadata": {},
   "source": [
    "### 2. Connecting Containers to Networks\n",
    "\n",
    "To connect a container to a network:\n",
    "\n",
    "```bash\n",
    "docker network connect [OPTIONS] NETWORK CONTAINER\n",
    "```"
   ]
  },
  {
   "cell_type": "markdown",
   "metadata": {},
   "source": [
    "### 3. Exposing Ports\n",
    "\n",
    "To expose a container's port to the host:\n",
    "\n",
    "```bash\n",
    "docker run -p [HOST_PORT]:[CONTAINER_PORT] IMAGE\n",
    "```"
   ]
  },
  {
   "cell_type": "markdown",
   "metadata": {},
   "source": [
    "## Data Management in Containers\n",
    "\n",
    "### 1. Volumes\n",
    "\n",
    "Volumes are the preferred mechanism for persisting data generated by and used by Docker containers.\n",
    "\n",
    "To create a volume:\n",
    "\n",
    "```bash\n",
    "docker volume create [VOLUME_NAME]\n",
    "```\n",
    "\n",
    "To use a volume:\n",
    "\n",
    "```bash\n",
    "docker run -v [VOLUME_NAME]:/path/in/container IMAGE\n",
    "```"
   ]
  },
  {
   "cell_type": "markdown",
   "metadata": {},
   "source": [
    "### 2. Bind Mounts\n",
    "\n",
    "Bind mounts allow you to mount a file or directory on the host machine into a container.\n",
    "\n",
    "```bash\n",
    "docker run -v /host/path:/path/in/container IMAGE\n",
    "```"
   ]
  },
  {
   "cell_type": "markdown",
   "metadata": {},
   "source": [
    "## Container Resource Management\n",
    "\n",
    "### 1. Setting Resource Constraints\n",
    "\n",
    "You can limit a container's access to system resources:\n",
    "\n",
    "- Memory: `--memory`\n",
    "- CPU: `--cpus`\n",
    "\n",
    "Example:\n",
    "```bash\n",
    "docker run --memory=512m --cpus=2 nginx\n",
    "```\n"
   ]
  },
  {
   "cell_type": "markdown",
   "metadata": {},
   "source": [
    "### 2. Updating Resource Constraints\n",
    "\n",
    "To update resource constraints on a running container:\n",
    "\n",
    "```bash\n",
    "docker update [OPTIONS] CONTAINER\n",
    "```"
   ]
  },
  {
   "cell_type": "markdown",
   "metadata": {},
   "source": [
    "## Best Practices for Container Management\n",
    "\n",
    "1. Use Meaningful Names: Give containers descriptive names for easy identification.\n",
    "\n",
    "2. Clean Up Regularly: Remove unused containers to save disk space.\n",
    "\n",
    "3. Use Health Checks: Implement health checks in your Dockerfile or docker-compose file.\n",
    "\n",
    "4. Limit Resource Usage: Set appropriate resource constraints to prevent containers from consuming too much of the host's resources.\n",
    "\n",
    "5. Use Docker Compose: For applications with multiple containers, use Docker Compose to define and manage multi-container applications.\n",
    "\n",
    "6. Implement Logging: Configure appropriate logging drivers to manage container logs effectively.\n",
    "\n",
    "7. Security: Run containers with the least privileges necessary."
   ]
  },
  {
   "cell_type": "markdown",
   "metadata": {},
   "source": [
    "## Troubleshooting Containers\n",
    "\n",
    "1. Check Container Logs: Use `docker logs` to view container output.\n",
    "\n",
    "2. Inspect Container: Use `docker inspect` to view detailed container information.\n",
    "\n",
    "3. Check Resource Usage: Use `docker stats` to monitor resource consumption.\n",
    "\n",
    "4. Interactive Shell: Use `docker exec` to get an interactive shell in the container for debugging.\n",
    "\n",
    "5. Check Container Health: If implemented, use `docker inspect --format='{{.State.Health.Status}}' CONTAINER` to check the health status.\n",
    "\n",
    "By mastering these container management concepts and practices, you'll be well-equipped to effectively deploy, maintain, and troubleshoot containerized applications using Docker."
   ]
  }
 ],
 "metadata": {
  "language_info": {
   "name": "python"
  }
 },
 "nbformat": 4,
 "nbformat_minor": 2
}
