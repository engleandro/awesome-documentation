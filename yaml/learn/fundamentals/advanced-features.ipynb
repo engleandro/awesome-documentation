{
 "cells": [
  {
   "cell_type": "markdown",
   "metadata": {},
   "source": [
    "# Advanced YAML Features\n",
    "\n",
    "YAML offers several advanced features that allow for more complex and flexible data representation. This tutorial will explore these advanced concepts to help you leverage the full power of YAML."
   ]
  },
  {
   "cell_type": "markdown",
   "metadata": {},
   "source": [
    "## Anchors and Aliases\n",
    "\n",
    "Anchors and aliases allow you to reference and reuse parts of your YAML document.\n",
    "\n",
    "### Anchor (&)\n",
    "\n",
    "An anchor is defined using the `&` character followed by a name:\n",
    "\n",
    "```yaml\n",
    "base: &base\n",
    "  name: John Doe\n",
    "  age: 30\n",
    "```\n",
    "\n",
    "### Alias (*)\n",
    "\n",
    "An alias references an anchor using the `*` character followed by the anchor name:\n",
    "\n",
    "```yaml\n",
    "user:\n",
    "  <<: *base\n",
    "  city: New York\n",
    "```\n",
    "\n",
    "This results in:\n",
    "\n",
    "```yaml\n",
    "user:\n",
    "  name: John Doe\n",
    "  age: 30\n",
    "  city: New York\n",
    "```"
   ]
  },
  {
   "cell_type": "markdown",
   "metadata": {},
   "source": [
    "## Merge Key (<<)\n",
    "\n",
    "The merge key `<<` is used to combine mappings:\n",
    "\n",
    "```yaml\n",
    "defaults: &defaults\n",
    "  adapter: postgres\n",
    "  host: localhost\n",
    "\n",
    "development:\n",
    "  <<: *defaults\n",
    "  database: myapp_development\n",
    "\n",
    "test:\n",
    "  <<: *defaults\n",
    "  database: myapp_test\n",
    "```"
   ]
  },
  {
   "cell_type": "markdown",
   "metadata": {},
   "source": [
    "## Complex Anchors and Merges\n",
    "\n",
    "You can use multiple anchors and merge them:\n",
    "\n",
    "```yaml\n",
    "- &CENTER { x: 1, y: 2 }\n",
    "- &LEFT { x: 0, y: 2 }\n",
    "- &BIG { width: 100, height: 100 }\n",
    "- &SMALL { width: 50, height: 50 }\n",
    "\n",
    "# All the following maps are equal:\n",
    "- # Explicit keys\n",
    "  x: 1\n",
    "  y: 2\n",
    "  width: 100\n",
    "  height: 100\n",
    "\n",
    "- # Merge one map\n",
    "  << : *CENTER\n",
    "  width: 100\n",
    "  height: 100\n",
    "\n",
    "- # Merge multiple maps\n",
    "  << : [ *CENTER, *BIG ]\n",
    "\n",
    "- # Override\n",
    "  << : [ *BIG, *LEFT, *SMALL ]\n",
    "  x: 1\n",
    "```"
   ]
  },
  {
   "cell_type": "markdown",
   "metadata": {},
   "source": [
    "## Tags\n",
    "\n",
    "YAML uses tags to denote the type of data being represented.\n",
    "\n",
    "### Built-in Tags\n",
    "\n",
    "YAML has several built-in tags:\n",
    "\n",
    "```yaml\n",
    "string: !!str This is a string\n",
    "integer: !!int 42\n",
    "float: !!float 3.14159\n",
    "boolean: !!bool true\n",
    "null: !!null null\n",
    "```\n",
    "\n",
    "### Custom Tags\n",
    "\n",
    "You can define custom tags for specific data types:\n",
    "\n",
    "```yaml\n",
    "%TAG !custom! tag:example.com,2023:\n",
    "---\n",
    "!custom!person\n",
    "name: John Doe\n",
    "age: 30\n",
    "```"
   ]
  },
  {
   "cell_type": "markdown",
   "metadata": {},
   "source": [
    "## Sets\n",
    "\n",
    "YAML supports sets using the `!!set` tag:\n",
    "\n",
    "```yaml\n",
    "fruits: !!set\n",
    "  ? apple\n",
    "  ? banana\n",
    "  ? cherry\n",
    "```"
   ]
  },
  {
   "cell_type": "markdown",
   "metadata": {},
   "source": [
    "## Ordered Maps\n",
    "\n",
    "For ordered mappings, use the `!!omap` tag:\n",
    "\n",
    "```yaml\n",
    "priorities: !!omap\n",
    "  - high: task1\n",
    "  - medium: task2\n",
    "  - low: task3\n",
    "```"
   ]
  },
  {
   "cell_type": "markdown",
   "metadata": {},
   "source": [
    "## Binary Data\n",
    "\n",
    "YAML can represent binary data using the `!!binary` tag:\n",
    "\n",
    "```yaml\n",
    "gif_file: !!binary |\n",
    "  R0lGODlhDAAMAIQAAP//9/X17unp5WZmZgAAAOfn515eXvPz7Y6OjuDg4J+fn5\n",
    "  OTk6enp56enmlpaWNjY6Ojo4SEhP/++f/++f/++f/++f/++f/++f/++f/++f/+\n",
    "  +f/++f/++f/++f/++f/++SH+Dk1hZGUgd2l0aCBHSU1QACwAAAAADAAMAAAFLC\n",
    "  AgjoEwnuNAFOhpEMTRiggcz4BNJHrv/zCFcLiwMWYNG84BwwEeECcgggoBADs=\n",
    "```"
   ]
  },
  {
   "cell_type": "markdown",
   "metadata": {},
   "source": [
    "## Multi-document YAML\n",
    "\n",
    "YAML allows multiple documents in a single file, separated by `---`:\n",
    "\n",
    "```yaml\n",
    "---\n",
    "document: 1\n",
    "---\n",
    "document: 2\n",
    "---\n",
    "document: 3\n",
    "```\n",
    "\n",
    "Use `...` to explicitly end a document:\n",
    "\n",
    "```yaml\n",
    "---\n",
    "document: 1\n",
    "...\n",
    "---\n",
    "document: 2\n",
    "...\n",
    "```"
   ]
  },
  {
   "cell_type": "markdown",
   "metadata": {},
   "source": [
    "## Complex Keys\n",
    "\n",
    "YAML allows for complex keys in mappings:\n",
    "\n",
    "```yaml\n",
    "? - Manchester United\n",
    "  - Real Madrid\n",
    ": 2009 Champions League Final\n",
    "\n",
    "? [New York Yankees, Boston Red Sox]\n",
    ": 2004 AL Championship Series\n",
    "```"
   ]
  },
  {
   "cell_type": "markdown",
   "metadata": {},
   "source": [
    "## Explicit Typing\n",
    "\n",
    "You can explicitly specify the type of a value:\n",
    "\n",
    "```yaml\n",
    "data: !!str 123\n",
    "```\n",
    "\n",
    "This ensures that `123` is treated as a string, not an integer."
   ]
  },
  {
   "cell_type": "markdown",
   "metadata": {},
   "source": [
    "## Flow Style\n",
    "\n",
    "For compact representation, you can use flow style for collections:\n",
    "\n",
    "```yaml\n",
    "sequence: [item1, item2, item3]\n",
    "mapping: {key1: value1, key2: value2}\n",
    "```"
   ]
  },
  {
   "cell_type": "markdown",
   "metadata": {},
   "source": [
    "## Block Chomping\n",
    "\n",
    "Control how newlines are handled in block scalars:\n",
    "\n",
    "```yaml\n",
    "# Keep newlines (|)\n",
    "data: |\n",
    "  Line 1\n",
    "  Line 2\n",
    "  Line 3\n",
    "\n",
    "# Fold newlines (>)\n",
    "data: >\n",
    "  This is a long sentence\n",
    "  that spans multiple lines\n",
    "  but will be folded into a single line.\n",
    "\n",
    "# Strip final newline (|-) or (>-)\n",
    "data: |-\n",
    "  Line 1\n",
    "  Line 2\n",
    "  Line 3\n",
    "\n",
    "# Keep final newline (|+) or (>+)\n",
    "data: |+\n",
    "  Line 1\n",
    "  Line 2\n",
    "  Line 3\n",
    "```"
   ]
  },
  {
   "cell_type": "markdown",
   "metadata": {},
   "source": [
    "## Directives\n",
    "\n",
    "YAML supports directives for version and tag handling:\n",
    "\n",
    "```yaml\n",
    "%YAML 1.2\n",
    "%TAG ! tag:example.com,2023:\n",
    "---\n",
    "!person\n",
    "name: John Doe\n",
    "age: 30\n",
    "```\n",
    "\n",
    "These advanced YAML features provide powerful tools for representing complex data structures and controlling how YAML processors interpret your data. Understanding and using these features effectively can greatly enhance your ability to work with YAML in various applications and configurations."
   ]
  }
 ],
 "metadata": {
  "language_info": {
   "name": "python"
  }
 },
 "nbformat": 4,
 "nbformat_minor": 2
}
