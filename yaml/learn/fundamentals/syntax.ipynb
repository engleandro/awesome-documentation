{
 "cells": [
  {
   "cell_type": "markdown",
   "metadata": {},
   "source": [
    "# YAML Syntax Basics\n",
    "\n",
    "YAML (YAML Ain't Markup Language) is a human-readable data serialization format. This tutorial will cover the fundamental syntax elements of YAML, providing you with a solid foundation for working with YAML files."
   ]
  },
  {
   "cell_type": "markdown",
   "metadata": {},
   "source": [
    "## Indentation\n",
    "\n",
    "Indentation is crucial in YAML as it defines the structure of your data. YAML uses spaces for indentation, and it's recommended to use 2 spaces for each level. Never use tabs for indentation in YAML.\n",
    "\n",
    "Example:\n",
    "```yaml\n",
    "parent:\n",
    "  child1: value\n",
    "  child2: value\n",
    "```"
   ]
  },
  {
   "cell_type": "markdown",
   "metadata": {},
   "source": [
    "## Key-Value Pairs\n",
    "\n",
    "The most basic YAML structure is a key-value pair. Keys and values are separated by a colon followed by a space:\n",
    "\n",
    "```yaml\n",
    "key: value\n",
    "```\n",
    "\n",
    "Multiple key-value pairs:\n",
    "\n",
    "```yaml\n",
    "name: John Doe\n",
    "age: 30\n",
    "city: New York\n",
    "```"
   ]
  },
  {
   "cell_type": "markdown",
   "metadata": {},
   "source": [
    "## Data Types\n",
    "\n",
    "YAML supports several data types:\n",
    "\n",
    "### Strings\n",
    "\n",
    "Strings don't usually need quotes:\n",
    "\n",
    "```yaml\n",
    "name: John Doe\n",
    "```\n",
    "\n",
    "Use quotes for strings containing special characters:\n",
    "\n",
    "```yaml\n",
    "message: \"Hello, World!\"\n",
    "```\n",
    "\n",
    "### Numbers\n",
    "\n",
    "YAML automatically recognizes integers and floating-point numbers:\n",
    "\n",
    "```yaml\n",
    "integer: 42\n",
    "float: 3.14159\n",
    "```\n",
    "\n",
    "### Booleans\n",
    "\n",
    "Boolean values can be represented in various ways:\n",
    "\n",
    "```yaml\n",
    "true_value: true\n",
    "false_value: false\n",
    "yes_value: yes\n",
    "no_value: no\n",
    "```\n",
    "\n",
    "### Null\n",
    "\n",
    "Null values can be represented as:\n",
    "\n",
    "```yaml\n",
    "null_value: null\n",
    "also_null: ~\n",
    "```"
   ]
  },
  {
   "cell_type": "markdown",
   "metadata": {},
   "source": [
    "## Lists\n",
    "\n",
    "Lists in YAML are denoted by a dash (-) followed by a space:\n",
    "\n",
    "```yaml\n",
    "fruits:\n",
    "  - apple\n",
    "  - banana\n",
    "  - cherry\n",
    "```\n",
    "\n",
    "You can also use inline list syntax:\n",
    "\n",
    "```yaml\n",
    "fruits: [apple, banana, cherry]\n",
    "```"
   ]
  },
  {
   "cell_type": "markdown",
   "metadata": {},
   "source": [
    "## Nested Structures\n",
    "\n",
    "You can nest structures to create more complex data:\n",
    "\n",
    "```yaml\n",
    "person:\n",
    "  name: Jane Smith\n",
    "  age: 28\n",
    "  address:\n",
    "    street: 123 Main St\n",
    "    city: Boston\n",
    "    country: USA\n",
    "  hobbies:\n",
    "    - reading\n",
    "    - hiking\n",
    "    - photography\n",
    "```"
   ]
  },
  {
   "cell_type": "markdown",
   "metadata": {},
   "source": [
    "## Multi-line Strings\n",
    "\n",
    "YAML provides two ways to write multi-line strings:\n",
    "\n",
    "### Literal Block Scalar (|)\n",
    "\n",
    "Preserves line breaks:\n",
    "\n",
    "```yaml\n",
    "description: |\n",
    "  This is a long description\n",
    "  that spans multiple lines.\n",
    "  Line breaks are preserved.\n",
    "```\n",
    "\n",
    "### Folded Block Scalar (>)\n",
    "\n",
    "Folds line breaks into spaces:\n",
    "\n",
    "```yaml\n",
    "description: >\n",
    "  This is another long description\n",
    "  that spans multiple lines.\n",
    "  Line breaks are folded into spaces.\n",
    "```"
   ]
  },
  {
   "cell_type": "markdown",
   "metadata": {},
   "source": [
    "## Comments\n",
    "\n",
    "Comments in YAML start with a hash symbol (#):\n",
    "\n",
    "```yaml\n",
    "# This is a comment\n",
    "key: value  # This is an inline comment\n",
    "```"
   ]
  },
  {
   "cell_type": "markdown",
   "metadata": {},
   "source": [
    "## Anchors and Aliases\n",
    "\n",
    "YAML allows you to reference one part of the document from another:\n",
    "\n",
    "```yaml\n",
    "defaults: &defaults\n",
    "  adapter: postgres\n",
    "  host: localhost\n",
    "\n",
    "development:\n",
    "  database: myapp_development\n",
    "  <<: *defaults\n",
    "\n",
    "test:\n",
    "  database: myapp_test\n",
    "  <<: *defaults\n",
    "```\n",
    "\n",
    "Here, `&defaults` creates an anchor, and `*defaults` references that anchor."
   ]
  },
  {
   "cell_type": "markdown",
   "metadata": {},
   "source": [
    "## Document Separators\n",
    "\n",
    "YAML allows multiple documents in a single file, separated by three dashes (---):\n",
    "\n",
    "```yaml\n",
    "---\n",
    "document: 1\n",
    "---\n",
    "document: 2\n",
    "```"
   ]
  },
  {
   "cell_type": "markdown",
   "metadata": {},
   "source": [
    "## Quotes\n",
    "\n",
    "YAML supports both single and double quotes for strings:\n",
    "\n",
    "```yaml\n",
    "single_quoted: 'This is a single-quoted string'\n",
    "double_quoted: \"This is a double-quoted string\"\n",
    "```\n",
    "\n",
    "Use quotes when your string contains special characters or starts with characters that could be interpreted as another data type:\n",
    "\n",
    "```yaml\n",
    "special_chars: \"This string: contains special characters!\"\n",
    "number_string: \"42\"\n",
    "```"
   ]
  },
  {
   "cell_type": "markdown",
   "metadata": {},
   "source": [
    "## Escaping Characters\n",
    "\n",
    "In double-quoted strings, use backslashes to escape special characters:\n",
    "\n",
    "```yaml\n",
    "escaped: \"This is a \\\"quoted\\\" word\"\n",
    "path: \"C:\\\\Program Files\\\\My App\"\n",
    "```\n",
    "\n",
    "In single-quoted strings, double the single quotes to escape them:\n",
    "\n",
    "```yaml\n",
    "escaped_single: 'It''s a single quote'\n",
    "```\n",
    "\n",
    "Understanding these YAML syntax basics will allow you to create and read YAML files effectively, providing a solid foundation for more advanced YAML usage in various applications and configurations."
   ]
  }
 ],
 "metadata": {
  "language_info": {
   "name": "python"
  }
 },
 "nbformat": 4,
 "nbformat_minor": 2
}
