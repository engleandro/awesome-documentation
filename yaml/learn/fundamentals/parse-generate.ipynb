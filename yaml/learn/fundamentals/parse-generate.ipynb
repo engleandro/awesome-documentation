{
 "cells": [
  {
   "cell_type": "markdown",
   "metadata": {},
   "source": [
    "# YAML Parsing and Generation in Python\n",
    "\n",
    "YAML (YAML Ain't Markup Language) is a human-readable data serialization format. Python provides excellent support for working with YAML through the `PyYAML` library. This tutorial will cover the core concepts of parsing and generating YAML in Python."
   ]
  },
  {
   "cell_type": "markdown",
   "metadata": {},
   "source": [
    "## Installing PyYAML\n",
    "\n",
    "First, you need to install the PyYAML library. You can do this using pip:"
   ]
  },
  {
   "cell_type": "code",
   "execution_count": null,
   "metadata": {
    "vscode": {
     "languageId": "shellscript"
    }
   },
   "outputs": [],
   "source": [
    "pip install pyyaml"
   ]
  },
  {
   "cell_type": "markdown",
   "metadata": {},
   "source": [
    "## Parsing YAML\n",
    "\n",
    "### Basic Parsing\n",
    "\n",
    "To parse YAML in Python, you use the `yaml.safe_load()` function. This function takes a string or a file object containing YAML data and returns a Python object."
   ]
  },
  {
   "cell_type": "code",
   "execution_count": null,
   "metadata": {},
   "outputs": [],
   "source": [
    "import yaml\n",
    "\n",
    "yaml_string = \"\"\"\n",
    "name: John Doe\n",
    "age: 30\n",
    "city: New York\n",
    "\"\"\"\n",
    "\n",
    "data = yaml.safe_load(yaml_string)\n",
    "print(data)"
   ]
  },
  {
   "cell_type": "markdown",
   "metadata": {},
   "source": [
    "This will output:\n",
    "\n",
    "```python\n",
    "{'name': 'John Doe', 'age': 30, 'city': 'New York'}\n",
    "```\n",
    "\n",
    "### Parsing from a File\n",
    "\n",
    "To parse YAML from a file:"
   ]
  },
  {
   "cell_type": "code",
   "execution_count": null,
   "metadata": {},
   "outputs": [],
   "source": [
    "with open('config.yaml', 'r') as file:\n",
    "    data = yaml.safe_load(file)"
   ]
  },
  {
   "cell_type": "markdown",
   "metadata": {},
   "source": [
    "### Parsing Multiple YAML Documents\n",
    "\n",
    "If your YAML file contains multiple documents separated by `---`, you can use `yaml.safe_load_all()`:"
   ]
  },
  {
   "cell_type": "code",
   "execution_count": null,
   "metadata": {},
   "outputs": [],
   "source": [
    "yaml_string = \"\"\"\n",
    "---\n",
    "document: 1\n",
    "---\n",
    "document: 2\n",
    "\"\"\"\n",
    "\n",
    "for doc in yaml.safe_load_all(yaml_string):\n",
    "    print(doc)"
   ]
  },
  {
   "cell_type": "markdown",
   "metadata": {},
   "source": [
    "This will output:\n",
    "\n",
    "```python\n",
    "{'document': 1}\n",
    "{'document': 2}\n",
    "```"
   ]
  },
  {
   "cell_type": "markdown",
   "metadata": {},
   "source": [
    "## Generating YAML\n",
    "\n",
    "### Basic YAML Generation\n",
    "\n",
    "To generate YAML from Python objects, use the `yaml.dump()` function:"
   ]
  },
  {
   "cell_type": "code",
   "execution_count": null,
   "metadata": {},
   "outputs": [],
   "source": [
    "data = {\n",
    "    'name': 'Jane Doe',\n",
    "    'age': 28,\n",
    "    'city': 'San Francisco'\n",
    "}\n",
    "\n",
    "yaml_string = yaml.dump(data)\n",
    "print(yaml_string)"
   ]
  },
  {
   "cell_type": "markdown",
   "metadata": {},
   "source": [
    "This will output:\n",
    "\n",
    "```yaml\n",
    "age: 28\n",
    "city: San Francisco\n",
    "name: Jane Doe\n",
    "```\n",
    "\n",
    "### Customizing YAML Output\n",
    "\n",
    "You can customize the YAML output using various parameters:"
   ]
  },
  {
   "cell_type": "code",
   "execution_count": null,
   "metadata": {},
   "outputs": [],
   "source": [
    "yaml_string = yaml.dump(data, default_flow_style=False, sort_keys=False)\n",
    "print(yaml_string)"
   ]
  },
  {
   "cell_type": "markdown",
   "metadata": {},
   "source": [
    "This will output:\n",
    "\n",
    "```yaml\n",
    "name: Jane Doe\n",
    "age: 28\n",
    "city: San Francisco\n",
    "```\n",
    "\n",
    "### Writing YAML to a File\n",
    "\n",
    "To write YAML directly to a file:"
   ]
  },
  {
   "cell_type": "code",
   "execution_count": null,
   "metadata": {},
   "outputs": [],
   "source": [
    "with open('output.yaml', 'w') as file:\n",
    "    yaml.dump(data, file)"
   ]
  },
  {
   "cell_type": "markdown",
   "metadata": {},
   "source": [
    "### Generating Multiple YAML Documents\n",
    "\n",
    "To generate multiple YAML documents:"
   ]
  },
  {
   "cell_type": "code",
   "execution_count": null,
   "metadata": {},
   "outputs": [],
   "source": [
    "data1 = {'document': 1}\n",
    "data2 = {'document': 2}\n",
    "\n",
    "with open('multi_doc.yaml', 'w') as file:\n",
    "    yaml.dump_all([data1, data2], file)"
   ]
  },
  {
   "cell_type": "markdown",
   "metadata": {},
   "source": [
    "## Advanced Parsing and Generation\n",
    "\n",
    "### Custom Tag Handling\n",
    "\n",
    "PyYAML allows you to define custom tags for complex Python objects:"
   ]
  },
  {
   "cell_type": "code",
   "execution_count": null,
   "metadata": {},
   "outputs": [],
   "source": [
    "class Person:\n",
    "    def __init__(self, name, age):\n",
    "        self.name = name\n",
    "        self.age = age\n",
    "\n",
    "def person_representer(dumper, person):\n",
    "    return dumper.represent_mapping('!person', {'name': person.name, 'age': person.age})\n",
    "\n",
    "def person_constructor(loader, node):\n",
    "    value = loader.construct_mapping(node)\n",
    "    return Person(value['name'], value['age'])\n",
    "\n",
    "yaml.add_representer(Person, person_representer)\n",
    "yaml.add_constructor('!person', person_constructor)\n",
    "\n",
    "# Usage\n",
    "person = Person(\"Alice\", 30)\n",
    "yaml_string = yaml.dump(person)\n",
    "print(yaml_string)\n",
    "\n",
    "loaded_person = yaml.safe_load(yaml_string)\n",
    "print(f\"Name: {loaded_person.name}, Age: {loaded_person.age}\")"
   ]
  },
  {
   "cell_type": "markdown",
   "metadata": {},
   "source": [
    "### Preserving Order of Keys\n",
    "\n",
    "To preserve the order of keys in dictionaries, you can use `OrderedDict`:"
   ]
  },
  {
   "cell_type": "code",
   "execution_count": null,
   "metadata": {},
   "outputs": [],
   "source": [
    "from collections import OrderedDict\n",
    "\n",
    "yaml.add_representer(OrderedDict, lambda dumper, data: dumper.represent_mapping('tag:yaml.org,2002:map', data.items()))\n",
    "\n",
    "data = OrderedDict([\n",
    "    ('first', 1),\n",
    "    ('second', 2),\n",
    "    ('third', 3)\n",
    "])\n",
    "\n",
    "yaml_string = yaml.dump(data)\n",
    "print(yaml_string)"
   ]
  },
  {
   "cell_type": "markdown",
   "metadata": {},
   "source": [
    "### Error Handling\n",
    "\n",
    "When parsing YAML, it's important to handle potential errors:"
   ]
  },
  {
   "cell_type": "code",
   "execution_count": null,
   "metadata": {},
   "outputs": [],
   "source": [
    "try:\n",
    "    data = yaml.safe_load(yaml_string)\n",
    "except yaml.YAMLError as e:\n",
    "    print(f\"Error parsing YAML: {e}\")"
   ]
  },
  {
   "cell_type": "markdown",
   "metadata": {},
   "source": [
    "## Performance Considerations\n",
    "\n",
    "### Using LibYAML\n",
    "\n",
    "For better performance, especially with large YAML files, you can use LibYAML:"
   ]
  },
  {
   "cell_type": "code",
   "execution_count": null,
   "metadata": {
    "vscode": {
     "languageId": "shellscript"
    }
   },
   "outputs": [],
   "source": [
    "pip install pyyaml cython"
   ]
  },
  {
   "cell_type": "markdown",
   "metadata": {},
   "source": [
    "Then in your Python code:"
   ]
  },
  {
   "cell_type": "code",
   "execution_count": null,
   "metadata": {},
   "outputs": [],
   "source": [
    "import yaml\n",
    "try:\n",
    "    from yaml import CSafeLoader as SafeLoader, CDumper as Dumper\n",
    "except ImportError:\n",
    "    from yaml import SafeLoader, Dumper\n",
    "\n",
    "data = yaml.load(yaml_string, Loader=SafeLoader)\n",
    "yaml_output = yaml.dump(data, Dumper=Dumper)"
   ]
  },
  {
   "cell_type": "markdown",
   "metadata": {},
   "source": [
    "### Streaming for Large Files\n",
    "\n",
    "For very large YAML files, you can use streaming:"
   ]
  },
  {
   "cell_type": "code",
   "execution_count": null,
   "metadata": {},
   "outputs": [],
   "source": [
    "def parse_large_yaml(file_path):\n",
    "    with open(file_path, 'r') as file:\n",
    "        for event in yaml.parse(file):\n",
    "            if isinstance(event, yaml.ScalarEvent):\n",
    "                print(f\"Scalar: {event.value}\")\n",
    "            elif isinstance(event, yaml.SequenceStartEvent):\n",
    "                print(\"Sequence Start\")\n",
    "            elif isinstance(event, yaml.MappingStartEvent):\n",
    "                print(\"Mapping Start\")"
   ]
  },
  {
   "cell_type": "markdown",
   "metadata": {},
   "source": [
    "This tutorial covers the core concepts of YAML parsing and generation in Python, providing you with the tools to effectively work with YAML in your Python projects. Remember to always use `safe_load()` instead of `load()` when parsing untrusted YAML to prevent potential security issues."
   ]
  }
 ],
 "metadata": {
  "language_info": {
   "name": "python"
  }
 },
 "nbformat": 4,
 "nbformat_minor": 2
}
