{
 "cells": [
  {
   "cell_type": "markdown",
   "metadata": {},
   "source": [
    "# INSTALL PYENV\n",
    "\n",
    "Pyenv is a Python runtime manager tool designed to handle multiple Python runtimes on a single machine. \n",
    "\n",
    "### INSTALL PYENV FOR LINUX (DEBIAN/LINUX)\n"
   ]
  },
  {
   "cell_type": "code",
   "execution_count": null,
   "metadata": {
    "vscode": {
     "languageId": "shellscript"
    }
   },
   "outputs": [],
   "source": [
    "sudo apt-get update\n",
    "\n",
    "# install Pyenv dependencies\n",
    "sudo apt-get install -y git curl make \\\n",
    "    build-essential gcc llvm zlib1g-dev libbz2-dev libreadline-dev libsqlite3-dev libssl-dev liblzma-dev libffi-dev xz-utils \\\n",
    "    python3-dev tk-dev\n",
    "\n",
    "# Install Pyenv\n",
    "curl https://pyenv.run | bash\n",
    "\n",
    "# Add Pyenv initialization to your shell's startup script\n",
    "rc_file=\"$HOME/.bashrc\"\n",
    "\n",
    "echo '# pyenv-config' >> \"$rc_file\"\n",
    "echo 'export PYENV_ROOT=\"$HOME/.pyenv\"' >> \"$rc_file\"\n",
    "echo 'command -v pyenv >/dev/null || export PATH=\"$PYENV_ROOT/bin:$PATH\"' >> \"$rc_file\"\n",
    "echo 'eval \"$(pyenv init -)\"' >> \"$rc_file\""
   ]
  },
  {
   "cell_type": "markdown",
   "metadata": {},
   "source": [
    "### INSTALL PYTHON WITH PYENV"
   ]
  },
  {
   "cell_type": "code",
   "execution_count": null,
   "metadata": {
    "vscode": {
     "languageId": "shellscript"
    }
   },
   "outputs": [],
   "source": [
    "pyenv install --list\n",
    "\n",
    "pyenv versions\n",
    "\n",
    "pyenv install 3.10.11\n",
    "\n",
    "pyenv global 3.10.11\n",
    "pyenv local 3.10.11\n",
    "\n",
    "pyenv versions\n",
    "pyenv version"
   ]
  },
  {
   "cell_type": "markdown",
   "metadata": {},
   "source": [
    "### TEST PYTHON INSTALLATION"
   ]
  },
  {
   "cell_type": "code",
   "execution_count": null,
   "metadata": {
    "vscode": {
     "languageId": "shellscript"
    }
   },
   "outputs": [],
   "source": [
    "python"
   ]
  }
 ],
 "metadata": {
  "language_info": {
   "name": "python"
  }
 },
 "nbformat": 4,
 "nbformat_minor": 2
}
